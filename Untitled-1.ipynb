{
 "cells": [
  {
   "cell_type": "code",
   "execution_count": 1,
   "metadata": {},
   "outputs": [
    {
     "name": "stdout",
     "output_type": "stream",
     "text": [
      "Hello\n"
     ]
    }
   ],
   "source": []
  },
  {
   "cell_type": "code",
   "execution_count": 2,
   "metadata": {},
   "outputs": [],
   "source": [
    "# Class and Function for Depth Sensor\n",
    "class DepthSensor:\n",
    "    def capture_facial_data(self):\n",
    "        \n",
    "        print(\"Capturing facial data using depth sensor...\")\n",
    "       \n",
    "\n",
    "    def analyze_facial_expressions(self):\n",
    "        return \"Happy\" \n",
    "\n",
    "# Class and Function for infrared sensor\n",
    "class InfraredSensor:\n",
    "    def monitor_temperature(self):\n",
    "  \n",
    "        print(\"Monitoring temperature using infrared sensor...\")\n",
    "\n",
    "    def detect_stress(self):\n",
    "        return \"Stress\"  \n",
    "\n"
   ]
  },
  {
   "cell_type": "code",
   "execution_count": 3,
   "metadata": {},
   "outputs": [
    {
     "name": "stdout",
     "output_type": "stream",
     "text": [
      "Capturing facial data using depth sensor...\n"
     ]
    },
    {
     "ename": "AssertionError",
     "evalue": "",
     "output_type": "error",
     "traceback": [
      "\u001b[1;31m---------------------------------------------------------------------------\u001b[0m",
      "\u001b[1;31mAssertionError\u001b[0m                            Traceback (most recent call last)",
      "Cell \u001b[1;32mIn[3], line 1\u001b[0m\n\u001b[1;32m----> 1\u001b[0m \u001b[38;5;28;01massert\u001b[39;00m DepthSensor()\u001b[38;5;241m.\u001b[39mcapture_facial_data() \u001b[38;5;241m==\u001b[39m \u001b[38;5;124m\"\u001b[39m\u001b[38;5;124mCapturing facial data using depth sensor...\u001b[39m\u001b[38;5;124m\"\u001b[39m\n\u001b[0;32m      2\u001b[0m \u001b[38;5;28;01massert\u001b[39;00m DepthSensor()\u001b[38;5;241m.\u001b[39manalyze_facial_expressions() \u001b[38;5;241m==\u001b[39m \u001b[38;5;124m\"\u001b[39m\u001b[38;5;124mHappy\u001b[39m\u001b[38;5;124m\"\u001b[39m\n\u001b[0;32m      3\u001b[0m \u001b[38;5;28;01massert\u001b[39;00m InfraredSensor()\u001b[38;5;241m.\u001b[39mmonitor_temperature() \u001b[38;5;241m==\u001b[39m \u001b[38;5;124m\"\u001b[39m\u001b[38;5;124mMonitoring temperature using infrared sensor...\u001b[39m\u001b[38;5;124m\"\u001b[39m\n",
      "\u001b[1;31mAssertionError\u001b[0m: "
     ]
    }
   ],
   "source": [
    "#class for voice \n",
    "class VoiceAnalysis: \n",
    "    def analyze_voice(self):\n",
    "        print(\"Analyzing voice tone and pitch...\")\n",
    "\n",
    "    def get_emotional_state_from_voice(self):\n",
    "       \n",
    "        return \"Frustration\"  \n",
    "    \n",
    "\n",
    "#class for gesture \n",
    "class GestureRecognition:\n",
    "    def recognize_gestures(self):\n",
    "        print(\"Recognizing gestures...\")\n",
    "\n",
    "    def get_gesture_emotional_state(self):\n",
    "        \n",
    "        return \"Agitation\"  \n",
    "\n"
   ]
  },
  {
   "cell_type": "code",
   "execution_count": null,
   "metadata": {},
   "outputs": [],
   "source": [
    "# behavioral_monitoring.py\n",
    "class BehavioralMonitoring:\n",
    "    def monitor_driving_behavior(self):\n",
    "     \n",
    "        print(\"Monitoring driving behavior...\")\n",
    "\n",
    "    def assess_driving_behavior(self):\n",
    "        return \"Erratic\"  "
   ]
  },
  {
   "cell_type": "code",
   "execution_count": null,
   "metadata": {},
   "outputs": [],
   "source": [
    "class EmotionRecognitionSystem:\n",
    "    def __init__(self):\n",
    "        self.depth_sensor = DepthSensor()\n",
    "        self.infrared_sensor = InfraredSensor()\n",
    "        self.voice_analysis = VoiceAnalysis()\n",
    "        self.gesture_recognition = GestureRecognition()\n",
    "        self.behavioral_monitoring = BehavioralMonitoring()\n",
    "\n",
    "    def recognize_emotions(self):\n",
    "        self.depth_sensor.capture_facial_data()\n",
    "        self.infrared_sensor.monitor_temperature()\n",
    "        self.voice_analysis.analyze_voice()\n",
    "        self.gesture_recognition.recognize_gestures()\n",
    "        self.behavioral_monitoring.monitor_driving_behavior()\n",
    "\n",
    "        facial_emotion = self.depth_sensor.analyze_facial_expressions()\n",
    "        stress_emotion = self.infrared_sensor.detect_stress()\n",
    "        voice_emotion = self.voice_analysis.get_emotional_state_from_voice()\n",
    "        gesture_emotion = self.gesture_recognition.get_gesture_emotional_state()\n",
    "        driving_behavior = self.behavioral_monitoring.assess_driving_behavior()\n",
    "\n",
    "        print(\"Facial Emotion:\", facial_emotion)\n",
    "        print(\"Stress Emotion:\", stress_emotion)\n",
    "        print(\"Voice Emotion:\", voice_emotion)\n",
    "        print(\"Gesture Emotion:\", gesture_emotion)\n",
    "        print(\"Driving Behavior:\", driving_behavior)\n",
    "\n",
    "        # Trigger adaptive responses based on detected emotions\n",
    "        self.trigger_responses(facial_emotion, stress_emotion, voice_emotion, gesture_emotion, driving_behavior)\n",
    "\n",
    "    def trigger_responses(self, facial_emotion, stress_emotion, voice_emotion, gesture_emotion, driving_behavior):\n",
    "        if stress_emotion == \"Stress\" or voice_emotion == \"Frustration\":\n",
    "            print(\"Triggering Relaxation Mode: Calming music and soft lighting.\")\n",
    "        elif gesture_emotion == \"Agitation\" or driving_behavior == \"Erratic\":\n",
    "            print(\"Triggering Alertness Mode: Increase brightness and play energizing music.\")\n",
    "        else:\n",
    "            print(\"Normal driving conditions. No action required.\")\n",
    "\n",
    "if __name__ == \"__main__\":\n",
    "    system = EmotionRecognitionSystem()\n",
    "    system.recognize_emotions()"
   ]
  }
 ],
 "metadata": {
  "kernelspec": {
   "display_name": "Python 3",
   "language": "python",
   "name": "python3"
  },
  "language_info": {
   "codemirror_mode": {
    "name": "ipython",
    "version": 3
   },
   "file_extension": ".py",
   "mimetype": "text/x-python",
   "name": "python",
   "nbconvert_exporter": "python",
   "pygments_lexer": "ipython3",
   "version": "3.12.7"
  }
 },
 "nbformat": 4,
 "nbformat_minor": 2
}
