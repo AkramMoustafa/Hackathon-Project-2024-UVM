{
 "cells": [
  {
   "cell_type": "code",
   "execution_count": null,
   "metadata": {},
   "outputs": [],
   "source": [
    "\n"
   ]
  },
  {
   "cell_type": "code",
   "execution_count": 179,
   "metadata": {},
   "outputs": [
    {
     "name": "stdout",
     "output_type": "stream",
     "text": [
      "Capturing facial data using depth sensor (camera)...\n",
      "Time limit reached. Exiting facial data capture.\n",
      "Monitoring temperature using infrared sensor...\n",
      "Analyzing voice tone and pitch...\n",
      "Recognizing gestures...\n",
      "Monitoring driving behavior...\n"
     ]
    }
   ],
   "source": [
    "import cv2\n",
    "import numpy as np\n",
    "import time\n",
    "\n",
    "class DepthSensor:\n",
    "    def __init__(self):\n",
    "        # Load the pre-trained Haar Cascade Classifier for face detection\n",
    "        self.face_cascade = cv2.CascadeClassifier('haarcascade_frontalface_default.xml')\n",
    "        # Load your emotion recognition model here\n",
    "        # Example: self.emotion_model = load_model('your_model.h5')\n",
    "\n",
    "    def capture_facial_data(self):\n",
    "        print(\"Capturing facial data using depth sensor (camera)...\")\n",
    "        \n",
    "        video_capture = cv2.VideoCapture(0)\n",
    "        start_time = time.time()  # Record the start time\n",
    "\n",
    "        while True:\n",
    "            ret, frame = video_capture.read()\n",
    "            gray_frame = cv2.cvtColor(frame, cv2.COLOR_BGR2GRAY)\n",
    "\n",
    "            # Detect faces in the frame\n",
    "            faces = self.face_cascade.detectMultiScale(gray_frame, scaleFactor=1.1, minNeighbors=5)\n",
    "\n",
    "            for (x, y, w, h) in faces:\n",
    "                cv2.rectangle(frame, (x, y), (x + w, y + h), (255, 0, 0), 2)\n",
    "                # Crop the face for emotion recognition\n",
    "                face = gray_frame[y:y + h, x:x + w]\n",
    "                facial_emotion = self.analyze_facial_expressions(face)  # Analyze the emotion\n",
    "                cv2.putText(frame, facial_emotion, (x, y - 10), cv2.FONT_HERSHEY_SIMPLEX, 0.9, (255, 0, 0), 2)\n",
    "\n",
    "            cv2.imshow('Video', frame)\n",
    "\n",
    "            # Check for 10 seconds limit\n",
    "            elapsed_time = time.time() - start_time\n",
    "            if elapsed_time > 10:  # Stop after 10 seconds\n",
    "                print(\"Time limit reached. Exiting facial data capture.\")\n",
    "                break\n",
    "\n",
    "            if cv2.waitKey(1) & 0xFF == ord('q'):  # Allow user to exit early\n",
    "                break\n",
    "\n",
    "        # Release the video capture and destroy all OpenCV windows\n",
    "        video_capture.release()\n",
    "        cv2.destroyAllWindows()\n",
    "\n",
    "    def analyze_facial_expressions(self, face):\n",
    "        # Preprocess the face for your emotion recognition model\n",
    "        # Example: face = cv2.resize(face, (48, 48))  # Resize to model input size\n",
    "        # face = face.astype('float32') / 255.0  # Normalize if needed\n",
    "        # face = np.expand_dims(face, axis=0)  # Expand dimensions for model input\n",
    "\n",
    "        # Use your trained emotion recognition model to predict the emotion\n",
    "        # emotion_prediction = self.emotion_model.predict(face)\n",
    "        # emotion_label = np.argmax(emotion_prediction)\n",
    "\n",
    "        # For now, return a placeholder emotion for demonstration\n",
    "        return \"Happy\"  # Replace with actual emotion detection logic\n",
    "\n",
    "# Continue with your EmotionRecognitionSystem class as before\n",
    "class EmotionRecognitionSystem:\n",
    "    def __init__(self):\n",
    "        self.depth_sensor = DepthSensor()\n",
    "        self.infrared_sensor = InfraredSensor()\n",
    "        self.voice_analysis = VoiceAnalysis()\n",
    "        self.gesture_recognition = GestureRecognition()\n",
    "        self.behavioral_monitoring = BehavioralMonitoring()\n",
    "\n",
    "    def recognize_emotions(self):\n",
    "        self.depth_sensor.capture_facial_data()\n",
    "        self.infrared_sensor.monitor_temperature()\n",
    "        self.voice_analysis.analyze_voice()\n",
    "        self.gesture_recognition.recognize_gestures()\n",
    "        self.behavioral_monitoring.monitor_driving_behavior()\n",
    "\n",
    "        # Facial emotion is captured in the camera loop, so no need to retrieve it again here\n",
    "\n",
    "if __name__ == \"__main__\":\n",
    "    system = EmotionRecognitionSystem()\n",
    "    system.recognize_emotions()\n",
    "\n",
    "\n",
    "\n",
    "# Class and Function for infrared sensor\n",
    "class InfraredSensor:\n",
    "    def monitor_temperature(self):\n",
    "  \n",
    "        print(\"Monitoring temperature using infrared sensor...\")\n",
    "\n",
    "    def detect_stress(self):\n",
    "        return \"Stress\"  \n",
    "\n"
   ]
  },
  {
   "cell_type": "code",
   "execution_count": 180,
   "metadata": {},
   "outputs": [],
   "source": [
    "# voice_analysis.py\n",
    "class VoiceAnalysis: \n",
    "    def analyze_voice(self):\n",
    "        print(\"Analyzing voice tone and pitch...\")\n",
    "\n",
    "    def get_emotional_state_from_voice(self):\n",
    "        # Replace with actual analysis logic\n",
    "        return \"Neutral\"  # Updated to reflect a neutral state\n",
    "\n",
    "# gesture_recognition.py\n",
    "class GestureRecognition:\n",
    "    def recognize_gestures(self):\n",
    "        print(\"Recognizing gestures...\")\n",
    "\n",
    "    def get_gesture_emotional_state(self):\n",
    "        # Replace with actual gesture recognition logic\n",
    "        return \"Neutral\"  # Updated to reflect a neutral state\n",
    "\n"
   ]
  },
  {
   "cell_type": "code",
   "execution_count": 181,
   "metadata": {},
   "outputs": [],
   "source": [
    "# behavioral_monitoring.py\n",
    "class BehavioralMonitoring:\n",
    "    def monitor_driving_behavior(self):\n",
    "        print(\"Monitoring driving behavior...\")\n",
    "\n",
    "    def assess_driving_behavior(self):\n",
    "        # Replace with actual driving behavior assessment logic\n",
    "        return \"Normal\"  # Updated to reflect a normal driving state\n",
    " "
   ]
  },
  {
   "cell_type": "code",
   "execution_count": 182,
   "metadata": {},
   "outputs": [
    {
     "name": "stdout",
     "output_type": "stream",
     "text": [
      "Capturing facial data using depth sensor (camera)...\n"
     ]
    },
    {
     "ename": "KeyboardInterrupt",
     "evalue": "",
     "output_type": "error",
     "traceback": [
      "\u001b[1;31m---------------------------------------------------------------------------\u001b[0m",
      "\u001b[1;31mKeyboardInterrupt\u001b[0m                         Traceback (most recent call last)",
      "Cell \u001b[1;32mIn[182], line 41\u001b[0m\n\u001b[0;32m     39\u001b[0m \u001b[38;5;28;01mif\u001b[39;00m \u001b[38;5;18m__name__\u001b[39m \u001b[38;5;241m==\u001b[39m \u001b[38;5;124m\"\u001b[39m\u001b[38;5;124m__main__\u001b[39m\u001b[38;5;124m\"\u001b[39m:\n\u001b[0;32m     40\u001b[0m     system \u001b[38;5;241m=\u001b[39m EmotionRecognitionSystem()\n\u001b[1;32m---> 41\u001b[0m     \u001b[43msystem\u001b[49m\u001b[38;5;241;43m.\u001b[39;49m\u001b[43mrecognize_emotions\u001b[49m\u001b[43m(\u001b[49m\u001b[43m)\u001b[49m\n",
      "Cell \u001b[1;32mIn[182], line 10\u001b[0m, in \u001b[0;36mEmotionRecognitionSystem.recognize_emotions\u001b[1;34m(self)\u001b[0m\n\u001b[0;32m      9\u001b[0m \u001b[38;5;28;01mdef\u001b[39;00m \u001b[38;5;21mrecognize_emotions\u001b[39m(\u001b[38;5;28mself\u001b[39m):\n\u001b[1;32m---> 10\u001b[0m     \u001b[38;5;28;43mself\u001b[39;49m\u001b[38;5;241;43m.\u001b[39;49m\u001b[43mdepth_sensor\u001b[49m\u001b[38;5;241;43m.\u001b[39;49m\u001b[43mcapture_facial_data\u001b[49m\u001b[43m(\u001b[49m\u001b[43m)\u001b[49m\n\u001b[0;32m     11\u001b[0m     \u001b[38;5;28mself\u001b[39m\u001b[38;5;241m.\u001b[39minfrared_sensor\u001b[38;5;241m.\u001b[39mmonitor_temperature()\n\u001b[0;32m     12\u001b[0m     \u001b[38;5;28mself\u001b[39m\u001b[38;5;241m.\u001b[39mvoice_analysis\u001b[38;5;241m.\u001b[39manalyze_voice()\n",
      "Cell \u001b[1;32mIn[179], line 23\u001b[0m, in \u001b[0;36mDepthSensor.capture_facial_data\u001b[1;34m(self)\u001b[0m\n\u001b[0;32m     20\u001b[0m gray_frame \u001b[38;5;241m=\u001b[39m cv2\u001b[38;5;241m.\u001b[39mcvtColor(frame, cv2\u001b[38;5;241m.\u001b[39mCOLOR_BGR2GRAY)\n\u001b[0;32m     22\u001b[0m \u001b[38;5;66;03m# Detect faces in the frame\u001b[39;00m\n\u001b[1;32m---> 23\u001b[0m faces \u001b[38;5;241m=\u001b[39m \u001b[38;5;28;43mself\u001b[39;49m\u001b[38;5;241;43m.\u001b[39;49m\u001b[43mface_cascade\u001b[49m\u001b[38;5;241;43m.\u001b[39;49m\u001b[43mdetectMultiScale\u001b[49m\u001b[43m(\u001b[49m\u001b[43mgray_frame\u001b[49m\u001b[43m,\u001b[49m\u001b[43m \u001b[49m\u001b[43mscaleFactor\u001b[49m\u001b[38;5;241;43m=\u001b[39;49m\u001b[38;5;241;43m1.1\u001b[39;49m\u001b[43m,\u001b[49m\u001b[43m \u001b[49m\u001b[43mminNeighbors\u001b[49m\u001b[38;5;241;43m=\u001b[39;49m\u001b[38;5;241;43m5\u001b[39;49m\u001b[43m)\u001b[49m\n\u001b[0;32m     25\u001b[0m \u001b[38;5;28;01mfor\u001b[39;00m (x, y, w, h) \u001b[38;5;129;01min\u001b[39;00m faces:\n\u001b[0;32m     26\u001b[0m     cv2\u001b[38;5;241m.\u001b[39mrectangle(frame, (x, y), (x \u001b[38;5;241m+\u001b[39m w, y \u001b[38;5;241m+\u001b[39m h), (\u001b[38;5;241m255\u001b[39m, \u001b[38;5;241m0\u001b[39m, \u001b[38;5;241m0\u001b[39m), \u001b[38;5;241m2\u001b[39m)\n",
      "\u001b[1;31mKeyboardInterrupt\u001b[0m: "
     ]
    }
   ],
   "source": [
    "class EmotionRecognitionSystem:\n",
    "    def __init__(self):\n",
    "        self.depth_sensor = DepthSensor()\n",
    "        self.infrared_sensor = InfraredSensor()\n",
    "        self.voice_analysis = VoiceAnalysis()\n",
    "        self.gesture_recognition = GestureRecognition()\n",
    "        self.behavioral_monitoring = BehavioralMonitoring()\n",
    "\n",
    "    def recognize_emotions(self):\n",
    "        self.depth_sensor.capture_facial_data()\n",
    "        self.infrared_sensor.monitor_temperature()\n",
    "        self.voice_analysis.analyze_voice()\n",
    "        self.gesture_recognition.recognize_gestures()\n",
    "        self.behavioral_monitoring.monitor_driving_behavior()\n",
    "\n",
    "        facial_emotion = self.depth_sensor.analyze_facial_expressions()\n",
    "        stress_emotion = self.infrared_sensor.detect_stress()\n",
    "        voice_emotion = self.voice_analysis.get_emotional_state_from_voice()\n",
    "        gesture_emotion = self.gesture_recognition.get_gesture_emotional_state()\n",
    "        driving_behavior = self.behavioral_monitoring.assess_driving_behavior()\n",
    "\n",
    "        print(\"Facial Emotion:\", facial_emotion)\n",
    "        print(\"Stress Emotion:\", stress_emotion)\n",
    "        print(\"Voice Emotion:\", voice_emotion)\n",
    "        print(\"Gesture Emotion:\", gesture_emotion)\n",
    "        print(\"Driving Behavior:\", driving_behavior)\n",
    "\n",
    "        # Trigger adaptive responses based on detected emotions\n",
    "        self.trigger_responses(facial_emotion, stress_emotion, voice_emotion, gesture_emotion, driving_behavior)\n",
    "\n",
    "    def trigger_responses(self, facial_emotion, stress_emotion, voice_emotion, gesture_emotion, driving_behavior):\n",
    "        if stress_emotion == \"Stress\" or voice_emotion == \"Frustration\":\n",
    "            print(\"Triggering Relaxation Mode: Calming music and soft lighting.\")\n",
    "        elif gesture_emotion == \"Agitation\" or driving_behavior == \"Erratic\":\n",
    "            print(\"Triggering Alertness Mode: Increase brightness and play energizing music.\")\n",
    "        else:\n",
    "            print(\"Normal driving conditions. No action required.\")\n",
    "\n",
    "if __name__ == \"__main__\":\n",
    "    system = EmotionRecognitionSystem()\n",
    "    system.recognize_emotions()"
   ]
  },
  {
   "cell_type": "code",
   "execution_count": 165,
   "metadata": {},
   "outputs": [
    {
     "ename": "FileNotFoundError",
     "evalue": "[Errno 2] No such file or directory: 'example.xml'",
     "output_type": "error",
     "traceback": [
      "\u001b[1;31m---------------------------------------------------------------------------\u001b[0m",
      "\u001b[1;31mFileNotFoundError\u001b[0m                         Traceback (most recent call last)",
      "Cell \u001b[1;32mIn[165], line 4\u001b[0m\n\u001b[0;32m      1\u001b[0m \u001b[38;5;28;01mimport\u001b[39;00m \u001b[38;5;21;01mxml\u001b[39;00m\u001b[38;5;21;01m.\u001b[39;00m\u001b[38;5;21;01metree\u001b[39;00m\u001b[38;5;21;01m.\u001b[39;00m\u001b[38;5;21;01mElementTree\u001b[39;00m \u001b[38;5;28;01mas\u001b[39;00m \u001b[38;5;21;01mET\u001b[39;00m\n\u001b[0;32m      3\u001b[0m \u001b[38;5;66;03m# Parse the XML file\u001b[39;00m\n\u001b[1;32m----> 4\u001b[0m tree \u001b[38;5;241m=\u001b[39m \u001b[43mET\u001b[49m\u001b[38;5;241;43m.\u001b[39;49m\u001b[43mparse\u001b[49m\u001b[43m(\u001b[49m\u001b[38;5;124;43m'\u001b[39;49m\u001b[38;5;124;43mexample.xml\u001b[39;49m\u001b[38;5;124;43m'\u001b[39;49m\u001b[43m)\u001b[49m\n\u001b[0;32m      6\u001b[0m \u001b[38;5;66;03m# Get the root element\u001b[39;00m\n\u001b[0;32m      7\u001b[0m root \u001b[38;5;241m=\u001b[39m tree\u001b[38;5;241m.\u001b[39mgetroot()\n",
      "File \u001b[1;32mC:\\Program Files\\WindowsApps\\PythonSoftwareFoundation.Python.3.12_3.12.2032.0_x64__qbz5n2kfra8p0\\Lib\\xml\\etree\\ElementTree.py:1204\u001b[0m, in \u001b[0;36mparse\u001b[1;34m(source, parser)\u001b[0m\n\u001b[0;32m   1195\u001b[0m \u001b[38;5;250m\u001b[39m\u001b[38;5;124;03m\"\"\"Parse XML document into element tree.\u001b[39;00m\n\u001b[0;32m   1196\u001b[0m \n\u001b[0;32m   1197\u001b[0m \u001b[38;5;124;03m*source* is a filename or file object containing XML data,\u001b[39;00m\n\u001b[1;32m   (...)\u001b[0m\n\u001b[0;32m   1201\u001b[0m \n\u001b[0;32m   1202\u001b[0m \u001b[38;5;124;03m\"\"\"\u001b[39;00m\n\u001b[0;32m   1203\u001b[0m tree \u001b[38;5;241m=\u001b[39m ElementTree()\n\u001b[1;32m-> 1204\u001b[0m \u001b[43mtree\u001b[49m\u001b[38;5;241;43m.\u001b[39;49m\u001b[43mparse\u001b[49m\u001b[43m(\u001b[49m\u001b[43msource\u001b[49m\u001b[43m,\u001b[49m\u001b[43m \u001b[49m\u001b[43mparser\u001b[49m\u001b[43m)\u001b[49m\n\u001b[0;32m   1205\u001b[0m \u001b[38;5;28;01mreturn\u001b[39;00m tree\n",
      "File \u001b[1;32mC:\\Program Files\\WindowsApps\\PythonSoftwareFoundation.Python.3.12_3.12.2032.0_x64__qbz5n2kfra8p0\\Lib\\xml\\etree\\ElementTree.py:558\u001b[0m, in \u001b[0;36mElementTree.parse\u001b[1;34m(self, source, parser)\u001b[0m\n\u001b[0;32m    556\u001b[0m close_source \u001b[38;5;241m=\u001b[39m \u001b[38;5;28;01mFalse\u001b[39;00m\n\u001b[0;32m    557\u001b[0m \u001b[38;5;28;01mif\u001b[39;00m \u001b[38;5;129;01mnot\u001b[39;00m \u001b[38;5;28mhasattr\u001b[39m(source, \u001b[38;5;124m\"\u001b[39m\u001b[38;5;124mread\u001b[39m\u001b[38;5;124m\"\u001b[39m):\n\u001b[1;32m--> 558\u001b[0m     source \u001b[38;5;241m=\u001b[39m \u001b[38;5;28;43mopen\u001b[39;49m\u001b[43m(\u001b[49m\u001b[43msource\u001b[49m\u001b[43m,\u001b[49m\u001b[43m \u001b[49m\u001b[38;5;124;43m\"\u001b[39;49m\u001b[38;5;124;43mrb\u001b[39;49m\u001b[38;5;124;43m\"\u001b[39;49m\u001b[43m)\u001b[49m\n\u001b[0;32m    559\u001b[0m     close_source \u001b[38;5;241m=\u001b[39m \u001b[38;5;28;01mTrue\u001b[39;00m\n\u001b[0;32m    560\u001b[0m \u001b[38;5;28;01mtry\u001b[39;00m:\n",
      "\u001b[1;31mFileNotFoundError\u001b[0m: [Errno 2] No such file or directory: 'example.xml'"
     ]
    }
   ],
   "source": [
    "import xml.etree.ElementTree as ET\n",
    "\n",
    "# Parse the XML file\n",
    "tree = ET.parse('example.xml')\n",
    "\n",
    "# Get the root element\n",
    "root = tree.getroot()\n",
    "\n",
    "# Access elements\n",
    "print(f\"Root tag: {root.tag}\")\n",
    "print(f\"Attributes: {root.attrib}\")\n",
    "\n",
    "# Iterate through the XML\n",
    "for child in root:\n",
    "    print(f\"Tag: {child.tag}, Attributes: {child.attrib}, Text: {child.text}\")\n"
   ]
  },
  {
   "cell_type": "code",
   "execution_count": 78,
   "metadata": {},
   "outputs": [
    {
     "data": {
      "text/plain": [
       "<Element 'opencv_storage' at 0x0000012CDD44CA90>"
      ]
     },
     "execution_count": 78,
     "metadata": {},
     "output_type": "execute_result"
    }
   ],
   "source": [
    "root"
   ]
  },
  {
   "cell_type": "code",
   "execution_count": null,
   "metadata": {},
   "outputs": [],
   "source": []
  }
 ],
 "metadata": {
  "kernelspec": {
   "display_name": "Python 3",
   "language": "python",
   "name": "python3"
  },
  "language_info": {
   "codemirror_mode": {
    "name": "ipython",
    "version": 3
   },
   "file_extension": ".py",
   "mimetype": "text/x-python",
   "name": "python",
   "nbconvert_exporter": "python",
   "pygments_lexer": "ipython3",
   "version": "3.12.7"
  }
 },
 "nbformat": 4,
 "nbformat_minor": 2
}
